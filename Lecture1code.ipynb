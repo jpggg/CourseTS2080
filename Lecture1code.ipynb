{
 "cells": [
  {
   "cell_type": "markdown",
   "id": "cbd75e53",
   "metadata": {},
   "source": [
    "## Encapsulation"
   ]
  },
  {
   "cell_type": "code",
   "execution_count": 1,
   "id": "7b40da2b",
   "metadata": {},
   "outputs": [],
   "source": [
    "class Employee:\n",
    "    \n",
    "    # Constructor\n",
    "    def __init__(self, name, salary, project):\n",
    "        self.name = name\n",
    "        self.salary = salary\n",
    "        self.project = project"
   ]
  },
  {
   "cell_type": "code",
   "execution_count": 2,
   "id": "d3d6ab6d",
   "metadata": {},
   "outputs": [
    {
     "name": "stdout",
     "output_type": "stream",
     "text": [
      "Jessa\n",
      "8000\n",
      "NLP\n"
     ]
    }
   ],
   "source": [
    "# creating object of a class\n",
    "emp = Employee('Jessa', 8000, 'NLP')\n",
    "\n",
    "# calling public method of the class\n",
    "print(emp.name)\n",
    "print(emp.salary)\n",
    "print(emp.project)\n"
   ]
  },
  {
   "cell_type": "code",
   "execution_count": 5,
   "id": "813e20ad",
   "metadata": {
    "scrolled": true
   },
   "outputs": [
    {
     "name": "stdout",
     "output_type": "stream",
     "text": [
      "Jessa 10000\n",
      "10000\n"
     ]
    }
   ],
   "source": [
    "class Employee:\n",
    "    # constructor\n",
    "    def __init__(self, name, salary):\n",
    "        self.name = name\n",
    "        self.__salary = salary\n",
    "        \n",
    "    def show(self):\n",
    "        print(self.name, self.__salary)\n",
    "    \n",
    "        \n",
    "emp = Employee('Jessa', 10000)\n",
    "\n",
    "emp.show()\n",
    "print(emp._Employee__salary)"
   ]
  },
  {
   "cell_type": "code",
   "execution_count": 8,
   "id": "a417da5e",
   "metadata": {},
   "outputs": [
    {
     "ename": "NameError",
     "evalue": "name '_name' is not defined",
     "output_type": "error",
     "traceback": [
      "\u001b[1;31m---------------------------------------------------------------------------\u001b[0m",
      "\u001b[1;31mNameError\u001b[0m                                 Traceback (most recent call last)",
      "Input \u001b[1;32mIn [8]\u001b[0m, in \u001b[0;36m<cell line: 14>\u001b[1;34m()\u001b[0m\n\u001b[0;32m     11\u001b[0m         \u001b[38;5;28mprint\u001b[39m(\u001b[38;5;28mself\u001b[39m\u001b[38;5;241m.\u001b[39m_name)\n\u001b[0;32m     12\u001b[0m         \u001b[38;5;28mprint\u001b[39m(\u001b[38;5;28mself\u001b[39m\u001b[38;5;241m.\u001b[39m_project)\n\u001b[1;32m---> 14\u001b[0m c \u001b[38;5;241m=\u001b[39m \u001b[43mEmployee\u001b[49m\u001b[43m(\u001b[49m\u001b[38;5;124;43m\"\u001b[39;49m\u001b[38;5;124;43mJessa\u001b[39;49m\u001b[38;5;124;43m\"\u001b[39;49m\u001b[43m)\u001b[49m\n\u001b[0;32m     15\u001b[0m c\u001b[38;5;241m.\u001b[39mshow()\n\u001b[0;32m     17\u001b[0m \u001b[38;5;28mprint\u001b[39m(c\u001b[38;5;241m.\u001b[39m_project)\n",
      "Input \u001b[1;32mIn [8]\u001b[0m, in \u001b[0;36mEmployee.__init__\u001b[1;34m(self, name)\u001b[0m\n\u001b[0;32m      6\u001b[0m \u001b[38;5;28;01mdef\u001b[39;00m \u001b[38;5;21m__init__\u001b[39m(\u001b[38;5;28mself\u001b[39m, name):\n\u001b[1;32m----> 7\u001b[0m     \u001b[38;5;28mself\u001b[39m\u001b[38;5;241m.\u001b[39mname \u001b[38;5;241m=\u001b[39m \u001b[43m_name\u001b[49m\n\u001b[0;32m      8\u001b[0m     Company\u001b[38;5;241m.\u001b[39m\u001b[38;5;21m__init__\u001b[39m(\u001b[38;5;28mself\u001b[39m)\n",
      "\u001b[1;31mNameError\u001b[0m: name '_name' is not defined"
     ]
    }
   ],
   "source": [
    "class Company:\n",
    "    def __init__(self):\n",
    "        self._project = \"NLP\"\n",
    "        \n",
    "class Employee(Company):\n",
    "    def __init__(self, name):\n",
    "        self.name = name\n",
    "        Company.__init__(self)\n",
    "        \n",
    "    def show(self):\n",
    "        print(self.name)\n",
    "        print(self._project)\n",
    "        \n",
    "c = Employee(\"Jessa\")\n",
    "c.show()\n",
    "\n",
    "print(c._project)"
   ]
  },
  {
   "cell_type": "code",
   "execution_count": 2,
   "id": "90d09f77",
   "metadata": {},
   "outputs": [
    {
     "name": "stdout",
     "output_type": "stream",
     "text": [
      "cat\n"
     ]
    }
   ],
   "source": [
    "a = 'cat'\n",
    "b = a\n",
    "a = 0\n",
    "print(b)"
   ]
  },
  {
   "cell_type": "code",
   "execution_count": 4,
   "id": "a37c4d98",
   "metadata": {},
   "outputs": [
    {
     "name": "stdout",
     "output_type": "stream",
     "text": [
      "Hello Parent1\n",
      "Hello Parent2\n",
      "Hello Child\n",
      "(<class '__main__.Child'>, <class '__main__.Parent1'>, <class '__main__.Parent2'>, <class '__main__.Parent3'>, <class 'object'>)\n"
     ]
    }
   ],
   "source": [
    "class Parent1:\n",
    "\tdef func1(self):\n",
    "\t\tprint(\"Hello Parent1\")\n",
    "\n",
    "class Parent2:\n",
    "\tdef func2(self):\n",
    "\t\tprint(\"Hello Parent2\")\n",
    "\n",
    "class Parent3:\n",
    "\tdef func2(self):\n",
    "\t\tprint(\"Hello Parent3\")\n",
    "\n",
    "class Child(Parent1, Parent2, Parent3):\n",
    "\tdef func3(self):\n",
    "\t\tprint(\"Hello Child\")\n",
    "\n",
    "test = Child()\n",
    "test.func1()\n",
    "test.func2()\n",
    "test.func3()\n",
    "\n",
    "print(Child.__mro__)"
   ]
  },
  {
   "cell_type": "code",
   "execution_count": 7,
   "id": "ba14f9e1",
   "metadata": {},
   "outputs": [
    {
     "name": "stdout",
     "output_type": "stream",
     "text": [
      "True\n",
      "False\n",
      "True\n",
      "True\n",
      "False\n",
      "True\n"
     ]
    }
   ],
   "source": [
    "class parent:\n",
    "\tdef func1():\n",
    "\t\tprint(\"Hello parent\")\n",
    "\n",
    "class child(parent):\n",
    "\tdef func2():\n",
    "\t\tprint(\"Hello Child\")\n",
    "\n",
    "print(issubclass(child, parent))\n",
    "print(issubclass(parent, child))\n",
    "\n",
    "A = child()\n",
    "B = parent()\n",
    "\n",
    "print(isinstance(A, child))\n",
    "print(isinstance(A, parent))\n",
    "print(isinstance(B, child))\n",
    "print(isinstance(B, parent))"
   ]
  },
  {
   "cell_type": "code",
   "execution_count": 10,
   "id": "a93965ac",
   "metadata": {},
   "outputs": [
    {
     "name": "stdout",
     "output_type": "stream",
     "text": [
      "Circle\n",
      "153.93804002589985\n",
      "I am a two-dimensional shape.\n",
      "/////\n",
      "Square\n",
      "20\n"
     ]
    }
   ],
   "source": [
    "from math import pi\n",
    "\n",
    "class Shape:\n",
    "\tdef __init__(self, name):\n",
    "\t\tself.name = name\n",
    "\n",
    "\tdef area(self):\n",
    "\t\tpass\n",
    "\n",
    "\tdef fact(self):\n",
    "\t\treturn \"I am a two-dimensional shape.\"\n",
    "\t\t\n",
    "\tdef __str__(self):\n",
    "\t\treturn self.name\n",
    "\n",
    "class Circle(Shape):\n",
    "\tdef __init__(self, radius):\n",
    "\t\tsuper().__init__(\"Circle\")\n",
    "\t\tself.radius = radius\n",
    "\n",
    "\tdef area(self):\n",
    "\t\treturn pi*self.radius**2\n",
    "\n",
    "class Square(Shape):\n",
    "\tdef __init__(self, a, b):\n",
    "\t\tsuper().__init__(\"Square\")\n",
    "\t\tself.a = a\n",
    "\t\tself.b = b\n",
    "\n",
    "\tdef area(self):\n",
    "\t\treturn self.a*self.b\n",
    "\n",
    "shape_circle = Circle(7)\n",
    "shape_square = Square(5,4)\n",
    "\n",
    "\n",
    "print(shape_circle)\n",
    "print(shape_circle.area())\n",
    "print(shape_circle.fact())\n",
    "print('/////')\n",
    "print(shape_square)\n",
    "print(shape_square.area())"
   ]
  },
  {
   "cell_type": "code",
   "execution_count": null,
   "id": "25e44ca4",
   "metadata": {},
   "outputs": [],
   "source": []
  }
 ],
 "metadata": {
  "kernelspec": {
   "display_name": "Python 3 (ipykernel)",
   "language": "python",
   "name": "python3"
  },
  "language_info": {
   "codemirror_mode": {
    "name": "ipython",
    "version": 3
   },
   "file_extension": ".py",
   "mimetype": "text/x-python",
   "name": "python",
   "nbconvert_exporter": "python",
   "pygments_lexer": "ipython3",
   "version": "3.9.12"
  }
 },
 "nbformat": 4,
 "nbformat_minor": 5
}
